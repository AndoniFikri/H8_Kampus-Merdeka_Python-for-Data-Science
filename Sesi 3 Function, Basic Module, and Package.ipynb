{
 "cells": [
  {
   "cell_type": "markdown",
   "id": "9abaac56",
   "metadata": {},
   "source": [
    "# Python Function"
   ]
  },
  {
   "cell_type": "code",
   "execution_count": null,
   "id": "3edc84b7",
   "metadata": {},
   "outputs": [],
   "source": [
    "# def function(parameters):\n",
    "      #statement"
   ]
  },
  {
   "cell_type": "code",
   "execution_count": 2,
   "id": "3e39b4bf",
   "metadata": {},
   "outputs": [],
   "source": [
    "# contoh function untuk menghitung luas\n",
    "def my_function(p,l):\n",
    "    print(p*l)"
   ]
  },
  {
   "cell_type": "code",
   "execution_count": 3,
   "id": "4ffa49ec",
   "metadata": {},
   "outputs": [
    {
     "name": "stdout",
     "output_type": "stream",
     "text": [
      "200\n"
     ]
    }
   ],
   "source": [
    "my_function(10,20)"
   ]
  },
  {
   "cell_type": "code",
   "execution_count": 4,
   "id": "2150db47",
   "metadata": {},
   "outputs": [],
   "source": [
    "#Trial Function \n",
    "def printme(str): \n",
    "    print(str)"
   ]
  },
  {
   "cell_type": "code",
   "execution_count": 5,
   "id": "76659055",
   "metadata": {},
   "outputs": [
    {
     "name": "stdout",
     "output_type": "stream",
     "text": [
      "This is trial\n"
     ]
    }
   ],
   "source": [
    "printme('This is trial')"
   ]
  },
  {
   "cell_type": "markdown",
   "id": "819275db",
   "metadata": {},
   "source": [
    "## Pass by reference vs value                 "
   ]
  },
  {
   "cell_type": "code",
   "execution_count": 6,
   "id": "bf1368c1",
   "metadata": {},
   "outputs": [
    {
     "name": "stdout",
     "output_type": "stream",
     "text": [
      "Values inside the function: [10, 20, 30, [1, 2, 3, 4]]\n"
     ]
    }
   ],
   "source": [
    "def changeme(mylist):\n",
    "    mylist.append([1,2,3,4])\n",
    "    print(f'Values inside the function: {mylist}')\n",
    "    \n",
    "mylist = [10,20,30]\n",
    "changeme(mylist)"
   ]
  },
  {
   "cell_type": "code",
   "execution_count": 10,
   "id": "013a9a7d",
   "metadata": {},
   "outputs": [
    {
     "name": "stdout",
     "output_type": "stream",
     "text": [
      "Values inside the function: [10, 20, 30]\n"
     ]
    }
   ],
   "source": [
    "def changeme(mylist):\n",
    "    mylist = [1,2,3,4]\n",
    "    print(f'Values inside the function: {mylist}')\n",
    "    return\n",
    "    \n",
    "mylist = [10,20,30]\n",
    "changeme(mylist)\n",
    "print(f'Values inside the function: {mylist}')"
   ]
  },
  {
   "cell_type": "code",
   "execution_count": 11,
   "id": "5c79b67e",
   "metadata": {},
   "outputs": [],
   "source": [
    "# Contoh penggunaan return, mengembalikan value\n",
    "def luas(p,l): \n",
    "    a = p*l \n",
    "    return a "
   ]
  },
  {
   "cell_type": "code",
   "execution_count": 12,
   "id": "7e27e828",
   "metadata": {},
   "outputs": [
    {
     "data": {
      "text/plain": [
       "200"
      ]
     },
     "execution_count": 12,
     "metadata": {},
     "output_type": "execute_result"
    }
   ],
   "source": [
    "luas(10,10)*2"
   ]
  },
  {
   "cell_type": "markdown",
   "id": "0085a944",
   "metadata": {},
   "source": [
    "## Function Arguments"
   ]
  },
  {
   "cell_type": "code",
   "execution_count": 13,
   "id": "eea74508",
   "metadata": {},
   "outputs": [
    {
     "name": "stdout",
     "output_type": "stream",
     "text": [
      "string\n"
     ]
    }
   ],
   "source": [
    "def printme(str):\n",
    "    print(str)\n",
    "    return \n",
    "\n",
    "printme(\"string\")"
   ]
  },
  {
   "cell_type": "code",
   "execution_count": 14,
   "id": "02612857",
   "metadata": {},
   "outputs": [
    {
     "ename": "TypeError",
     "evalue": "printme() missing 1 required positional argument: 'str'",
     "output_type": "error",
     "traceback": [
      "\u001b[1;31m---------------------------------------------------------------------------\u001b[0m",
      "\u001b[1;31mTypeError\u001b[0m                                 Traceback (most recent call last)",
      "Input \u001b[1;32mIn [14]\u001b[0m, in \u001b[0;36m<cell line: 1>\u001b[1;34m()\u001b[0m\n\u001b[1;32m----> 1\u001b[0m \u001b[43mprintme\u001b[49m\u001b[43m(\u001b[49m\u001b[43m)\u001b[49m\n",
      "\u001b[1;31mTypeError\u001b[0m: printme() missing 1 required positional argument: 'str'"
     ]
    }
   ],
   "source": [
    "printme()"
   ]
  },
  {
   "cell_type": "markdown",
   "id": "5b098ad6",
   "metadata": {},
   "source": [
    "Error karena ada required arguments"
   ]
  },
  {
   "cell_type": "code",
   "execution_count": 17,
   "id": "3f62edcd",
   "metadata": {},
   "outputs": [
    {
     "name": "stdout",
     "output_type": "stream",
     "text": [
      "Name : Doni\n",
      "Age : 26\n"
     ]
    }
   ],
   "source": [
    "def printinfo(name, age = 26):\n",
    "    print(f'Name : {name}')\n",
    "    print(f'Age : {age}')\n",
    "    return \n",
    "\n",
    "printinfo('Doni')"
   ]
  },
  {
   "cell_type": "code",
   "execution_count": 18,
   "id": "af893833",
   "metadata": {},
   "outputs": [
    {
     "name": "stdout",
     "output_type": "stream",
     "text": [
      "Name : Ikan\n",
      "Age : 30\n"
     ]
    }
   ],
   "source": [
    "printinfo(age = 30, name = 'Ikan')"
   ]
  },
  {
   "cell_type": "code",
   "execution_count": 21,
   "id": "b9b34673",
   "metadata": {},
   "outputs": [
    {
     "name": "stdout",
     "output_type": "stream",
     "text": [
      "Name : Doni\n",
      "Age : 26\n",
      "Gender : M\n"
     ]
    }
   ],
   "source": [
    "#Contoh 2 \n",
    "def printinfo(name, age = 26, gender = 'M'):\n",
    "    print(f'Name : {name}')\n",
    "    print(f'Age : {age}')\n",
    "    print(f'Gender : {gender}')\n",
    "    return \n",
    "\n",
    "printinfo('Doni')"
   ]
  },
  {
   "cell_type": "code",
   "execution_count": 22,
   "id": "9932fece",
   "metadata": {},
   "outputs": [
    {
     "name": "stdout",
     "output_type": "stream",
     "text": [
      "Name : Ikan\n",
      "Age : 30\n",
      "Gender : F\n"
     ]
    }
   ],
   "source": [
    "printinfo(gender = 'F', age = 30, name = 'Ikan')"
   ]
  },
  {
   "cell_type": "code",
   "execution_count": 24,
   "id": "c8f9fc62",
   "metadata": {},
   "outputs": [
    {
     "name": "stdout",
     "output_type": "stream",
     "text": [
      "output is: \n",
      "10\n"
     ]
    }
   ],
   "source": [
    "def printinfo(arg1, *vartuple): \n",
    "    print(\"output is: \")\n",
    "    print(arg1)\n",
    "    for var in vartuple: \n",
    "        print(var)\n",
    "    return \n",
    "\n",
    "printinfo(10)"
   ]
  },
  {
   "cell_type": "code",
   "execution_count": 26,
   "id": "96e649b3",
   "metadata": {},
   "outputs": [
    {
     "name": "stdout",
     "output_type": "stream",
     "text": [
      "output is: \n",
      "70\n",
      "60\n",
      "50\n",
      "a\n"
     ]
    }
   ],
   "source": [
    "printinfo(70,60,50,'a')"
   ]
  },
  {
   "cell_type": "code",
   "execution_count": 31,
   "id": "02a2159d",
   "metadata": {},
   "outputs": [
    {
     "name": "stdout",
     "output_type": "stream",
     "text": [
      "Value total 30\n",
      "Value of total 30\n"
     ]
    }
   ],
   "source": [
    "sum_l = lambda arg1, arg2: arg1 + arg2 \n",
    "\n",
    "def sum(arg1,arg2): \n",
    "    b = arg1 + arg2\n",
    "    return b\n",
    "print(f'Value total {sum_l(10,20)}')\n",
    "print(f'Value of total {sum(10,20)}')"
   ]
  },
  {
   "cell_type": "markdown",
   "id": "9b43d6c6",
   "metadata": {},
   "source": [
    "## Return Statement"
   ]
  },
  {
   "cell_type": "code",
   "execution_count": 33,
   "id": "28dc398a",
   "metadata": {},
   "outputs": [
    {
     "name": "stdout",
     "output_type": "stream",
     "text": [
      "Inside the function :  30\n",
      "Outside the function :  40\n"
     ]
    }
   ],
   "source": [
    "def sum(arg1, arg2):\n",
    "    # Add both the parameters and return them.\"\n",
    "    total = arg1 + arg2\n",
    "    total2 = total + arg1\n",
    "    print(\"Inside the function : \", total)\n",
    "    return total2\n",
    "# Now you can call sum function\n",
    "total = sum(10, 20)\n",
    "print(\"Outside the function : \", total)"
   ]
  },
  {
   "cell_type": "markdown",
   "id": "54a5bd97",
   "metadata": {},
   "source": [
    "## Scope of Variables"
   ]
  },
  {
   "cell_type": "code",
   "execution_count": null,
   "id": "b407cb21",
   "metadata": {},
   "outputs": [],
   "source": [
    "a = 10"
   ]
  },
  {
   "cell_type": "code",
   "execution_count": 35,
   "id": "fa756472",
   "metadata": {},
   "outputs": [
    {
     "name": "stdout",
     "output_type": "stream",
     "text": [
      "Inside the function local total:  {30}\n",
      "Outside the function local total:  {0}\n"
     ]
    }
   ],
   "source": [
    "total = 0; \n",
    "\n",
    "def sum( arg1, arg2 ): \n",
    "    total = arg1 + arg2 \n",
    "    print(f'Inside the function local total: ', {total})\n",
    "    return total \n",
    "\n",
    "\n",
    "sum(10,20)\n",
    "print(f'Outside the function local total: ', {total})"
   ]
  },
  {
   "cell_type": "code",
   "execution_count": 38,
   "id": "d4072206",
   "metadata": {},
   "outputs": [
    {
     "data": {
      "text/plain": [
       "50"
      ]
     },
     "execution_count": 38,
     "metadata": {},
     "output_type": "execute_result"
    }
   ],
   "source": [
    "jumlahkucing = 20\n",
    "def jumlahHewan():\n",
    "    jumlahAnjing = 30\n",
    "    return jumlahkucing + jumlahAnjing\n",
    "def jumlahkelinci():\n",
    "    return jumlahkucing + jumlahkucing\n",
    "jumlahHewan()"
   ]
  },
  {
   "cell_type": "markdown",
   "id": "ba88daa6",
   "metadata": {},
   "source": [
    "# Python Module"
   ]
  },
  {
   "cell_type": "code",
   "execution_count": 54,
   "id": "850735bd",
   "metadata": {},
   "outputs": [],
   "source": [
    "%run Mod.py"
   ]
  },
  {
   "cell_type": "code",
   "execution_count": 65,
   "id": "e57f605d",
   "metadata": {},
   "outputs": [
    {
     "ename": "ImportError",
     "evalue": "cannot import name 's' from 'Mod' (C:\\Users\\andon\\Desktop\\Hacktiv 8 Data Science\\Mod.py)",
     "output_type": "error",
     "traceback": [
      "\u001b[1;31m---------------------------------------------------------------------------\u001b[0m",
      "\u001b[1;31mImportError\u001b[0m                               Traceback (most recent call last)",
      "Input \u001b[1;32mIn [65]\u001b[0m, in \u001b[0;36m<cell line: 1>\u001b[1;34m()\u001b[0m\n\u001b[1;32m----> 1\u001b[0m \u001b[38;5;28;01mfrom\u001b[39;00m \u001b[38;5;21;01mMod\u001b[39;00m \u001b[38;5;28;01mimport\u001b[39;00m s\n",
      "\u001b[1;31mImportError\u001b[0m: cannot import name 's' from 'Mod' (C:\\Users\\andon\\Desktop\\Hacktiv 8 Data Science\\Mod.py)"
     ]
    }
   ],
   "source": [
    "from Mod import s"
   ]
  },
  {
   "cell_type": "code",
   "execution_count": 66,
   "id": "9612fae8",
   "metadata": {},
   "outputs": [
    {
     "name": "stdout",
     "output_type": "stream",
     "text": [
      "Hacktiv8-PtP Python For Data Science\n"
     ]
    }
   ],
   "source": [
    "print(s)"
   ]
  },
  {
   "cell_type": "code",
   "execution_count": 67,
   "id": "f1575823",
   "metadata": {},
   "outputs": [
    {
     "ename": "ImportError",
     "evalue": "cannot import name 'a' from 'Mod' (C:\\Users\\andon\\Desktop\\Hacktiv 8 Data Science\\Mod.py)",
     "output_type": "error",
     "traceback": [
      "\u001b[1;31m---------------------------------------------------------------------------\u001b[0m",
      "\u001b[1;31mImportError\u001b[0m                               Traceback (most recent call last)",
      "Input \u001b[1;32mIn [67]\u001b[0m, in \u001b[0;36m<cell line: 1>\u001b[1;34m()\u001b[0m\n\u001b[1;32m----> 1\u001b[0m \u001b[38;5;28;01mfrom\u001b[39;00m \u001b[38;5;21;01mMod\u001b[39;00m \u001b[38;5;28;01mimport\u001b[39;00m a,foo, Foo\n",
      "\u001b[1;31mImportError\u001b[0m: cannot import name 'a' from 'Mod' (C:\\Users\\andon\\Desktop\\Hacktiv 8 Data Science\\Mod.py)"
     ]
    }
   ],
   "source": [
    "from Mod import a,foo, Foo"
   ]
  },
  {
   "cell_type": "code",
   "execution_count": 68,
   "id": "14562a4e",
   "metadata": {},
   "outputs": [
    {
     "name": "stdout",
     "output_type": "stream",
     "text": [
      "[100, 200, 300]\n"
     ]
    }
   ],
   "source": [
    "print(a)"
   ]
  },
  {
   "cell_type": "code",
   "execution_count": 69,
   "id": "9be8dbe9",
   "metadata": {},
   "outputs": [
    {
     "name": "stdout",
     "output_type": "stream",
     "text": [
      "arg = ['quux']\n"
     ]
    }
   ],
   "source": [
    "foo(['quux'])"
   ]
  },
  {
   "cell_type": "markdown",
   "id": "dc616914",
   "metadata": {},
   "source": [
    "## The module search path"
   ]
  },
  {
   "cell_type": "code",
   "execution_count": 70,
   "id": "0011dba1",
   "metadata": {},
   "outputs": [],
   "source": [
    "import sys"
   ]
  },
  {
   "cell_type": "code",
   "execution_count": 71,
   "id": "a2602ecb",
   "metadata": {},
   "outputs": [
    {
     "data": {
      "text/plain": [
       "['C:\\\\Users\\\\andon\\\\Desktop\\\\Hacktiv 8 Data Science',\n",
       " 'C:\\\\Users\\\\andon\\\\anaconda3\\\\python39.zip',\n",
       " 'C:\\\\Users\\\\andon\\\\anaconda3\\\\DLLs',\n",
       " 'C:\\\\Users\\\\andon\\\\anaconda3\\\\lib',\n",
       " 'C:\\\\Users\\\\andon\\\\anaconda3',\n",
       " '',\n",
       " 'C:\\\\Users\\\\andon\\\\anaconda3\\\\lib\\\\site-packages',\n",
       " 'C:\\\\Users\\\\andon\\\\anaconda3\\\\lib\\\\site-packages\\\\win32',\n",
       " 'C:\\\\Users\\\\andon\\\\anaconda3\\\\lib\\\\site-packages\\\\win32\\\\lib',\n",
       " 'C:\\\\Users\\\\andon\\\\anaconda3\\\\lib\\\\site-packages\\\\Pythonwin']"
      ]
     },
     "execution_count": 71,
     "metadata": {},
     "output_type": "execute_result"
    }
   ],
   "source": [
    "sys.path"
   ]
  },
  {
   "cell_type": "markdown",
   "id": "50b71bf6",
   "metadata": {},
   "source": [
    "## Import Statement"
   ]
  },
  {
   "cell_type": "code",
   "execution_count": 74,
   "id": "3e1a8f08",
   "metadata": {},
   "outputs": [
    {
     "ename": "ImportError",
     "evalue": "cannot import name 'a' from 'Mod' (C:\\Users\\andon\\Desktop\\Hacktiv 8 Data Science\\Mod.py)",
     "output_type": "error",
     "traceback": [
      "\u001b[1;31m---------------------------------------------------------------------------\u001b[0m",
      "\u001b[1;31mImportError\u001b[0m                               Traceback (most recent call last)",
      "Input \u001b[1;32mIn [74]\u001b[0m, in \u001b[0;36m<cell line: 1>\u001b[1;34m()\u001b[0m\n\u001b[1;32m----> 1\u001b[0m \u001b[38;5;28;01mfrom\u001b[39;00m \u001b[38;5;21;01mMod\u001b[39;00m \u001b[38;5;28;01mimport\u001b[39;00m a, s, foo, Foo\n",
      "\u001b[1;31mImportError\u001b[0m: cannot import name 'a' from 'Mod' (C:\\Users\\andon\\Desktop\\Hacktiv 8 Data Science\\Mod.py)"
     ]
    }
   ],
   "source": [
    "from Mod import a, s, foo, Foo"
   ]
  },
  {
   "cell_type": "code",
   "execution_count": 75,
   "id": "f3bfd868",
   "metadata": {},
   "outputs": [
    {
     "data": {
      "text/plain": [
       "'Hacktiv8-PtP Python For Data Science'"
      ]
     },
     "execution_count": 75,
     "metadata": {},
     "output_type": "execute_result"
    }
   ],
   "source": [
    "s"
   ]
  },
  {
   "cell_type": "code",
   "execution_count": 76,
   "id": "0ef4c808",
   "metadata": {},
   "outputs": [
    {
     "data": {
      "text/plain": [
       "[100, 200, 300]"
      ]
     },
     "execution_count": 76,
     "metadata": {},
     "output_type": "execute_result"
    }
   ],
   "source": [
    "a"
   ]
  },
  {
   "cell_type": "code",
   "execution_count": null,
   "id": "6db316b2",
   "metadata": {},
   "outputs": [],
   "source": [
    "#dll"
   ]
  },
  {
   "cell_type": "markdown",
   "id": "aaade18f",
   "metadata": {},
   "source": [
    "## dir() Function"
   ]
  },
  {
   "cell_type": "code",
   "execution_count": 81,
   "id": "cb6390f5",
   "metadata": {},
   "outputs": [
    {
     "data": {
      "text/plain": [
       "['Foo',\n",
       " 'In',\n",
       " 'Mod',\n",
       " 'Out',\n",
       " '_',\n",
       " '_12',\n",
       " '_36',\n",
       " '_37',\n",
       " '_38',\n",
       " '_57',\n",
       " '_71',\n",
       " '_75',\n",
       " '_76',\n",
       " '__',\n",
       " '___',\n",
       " '__builtin__',\n",
       " '__builtins__',\n",
       " '__doc__',\n",
       " '__loader__',\n",
       " '__name__',\n",
       " '__nonzero__',\n",
       " '__package__',\n",
       " '__spec__',\n",
       " '_dh',\n",
       " '_i',\n",
       " '_i1',\n",
       " '_i10',\n",
       " '_i11',\n",
       " '_i12',\n",
       " '_i13',\n",
       " '_i14',\n",
       " '_i15',\n",
       " '_i16',\n",
       " '_i17',\n",
       " '_i18',\n",
       " '_i19',\n",
       " '_i2',\n",
       " '_i20',\n",
       " '_i21',\n",
       " '_i22',\n",
       " '_i23',\n",
       " '_i24',\n",
       " '_i25',\n",
       " '_i26',\n",
       " '_i27',\n",
       " '_i28',\n",
       " '_i29',\n",
       " '_i3',\n",
       " '_i30',\n",
       " '_i31',\n",
       " '_i32',\n",
       " '_i33',\n",
       " '_i34',\n",
       " '_i35',\n",
       " '_i36',\n",
       " '_i37',\n",
       " '_i38',\n",
       " '_i39',\n",
       " '_i4',\n",
       " '_i40',\n",
       " '_i41',\n",
       " '_i42',\n",
       " '_i43',\n",
       " '_i44',\n",
       " '_i45',\n",
       " '_i46',\n",
       " '_i47',\n",
       " '_i48',\n",
       " '_i49',\n",
       " '_i5',\n",
       " '_i50',\n",
       " '_i51',\n",
       " '_i52',\n",
       " '_i53',\n",
       " '_i54',\n",
       " '_i55',\n",
       " '_i56',\n",
       " '_i57',\n",
       " '_i58',\n",
       " '_i59',\n",
       " '_i6',\n",
       " '_i60',\n",
       " '_i61',\n",
       " '_i62',\n",
       " '_i63',\n",
       " '_i64',\n",
       " '_i65',\n",
       " '_i66',\n",
       " '_i67',\n",
       " '_i68',\n",
       " '_i69',\n",
       " '_i7',\n",
       " '_i70',\n",
       " '_i71',\n",
       " '_i72',\n",
       " '_i73',\n",
       " '_i74',\n",
       " '_i75',\n",
       " '_i76',\n",
       " '_i77',\n",
       " '_i78',\n",
       " '_i79',\n",
       " '_i8',\n",
       " '_i80',\n",
       " '_i81',\n",
       " '_i9',\n",
       " '_ih',\n",
       " '_ii',\n",
       " '_iii',\n",
       " '_oh',\n",
       " 'a',\n",
       " 'autopep8',\n",
       " 'changeme',\n",
       " 'exit',\n",
       " 'foo',\n",
       " 'get_ipython',\n",
       " 'json',\n",
       " 'jumlahHewan',\n",
       " 'jumlahkelinci',\n",
       " 'jumlahkucing',\n",
       " 'luas',\n",
       " 'my_function',\n",
       " 'mylist',\n",
       " 'printinfo',\n",
       " 'printme',\n",
       " 'quit',\n",
       " 's',\n",
       " 'sum',\n",
       " 'sum_l',\n",
       " 'sys',\n",
       " 'total']"
      ]
     },
     "execution_count": 81,
     "metadata": {},
     "output_type": "execute_result"
    }
   ],
   "source": [
    "dir()"
   ]
  },
  {
   "cell_type": "code",
   "execution_count": 82,
   "id": "9a411928",
   "metadata": {},
   "outputs": [],
   "source": [
    "qux = [1,2,3,4,5]"
   ]
  },
  {
   "cell_type": "code",
   "execution_count": 83,
   "id": "d9d7d57f",
   "metadata": {},
   "outputs": [
    {
     "data": {
      "text/plain": [
       "['Foo',\n",
       " 'In',\n",
       " 'Mod',\n",
       " 'Out',\n",
       " '_',\n",
       " '_12',\n",
       " '_36',\n",
       " '_37',\n",
       " '_38',\n",
       " '_57',\n",
       " '_71',\n",
       " '_75',\n",
       " '_76',\n",
       " '_81',\n",
       " '__',\n",
       " '___',\n",
       " '__builtin__',\n",
       " '__builtins__',\n",
       " '__doc__',\n",
       " '__loader__',\n",
       " '__name__',\n",
       " '__nonzero__',\n",
       " '__package__',\n",
       " '__spec__',\n",
       " '_dh',\n",
       " '_i',\n",
       " '_i1',\n",
       " '_i10',\n",
       " '_i11',\n",
       " '_i12',\n",
       " '_i13',\n",
       " '_i14',\n",
       " '_i15',\n",
       " '_i16',\n",
       " '_i17',\n",
       " '_i18',\n",
       " '_i19',\n",
       " '_i2',\n",
       " '_i20',\n",
       " '_i21',\n",
       " '_i22',\n",
       " '_i23',\n",
       " '_i24',\n",
       " '_i25',\n",
       " '_i26',\n",
       " '_i27',\n",
       " '_i28',\n",
       " '_i29',\n",
       " '_i3',\n",
       " '_i30',\n",
       " '_i31',\n",
       " '_i32',\n",
       " '_i33',\n",
       " '_i34',\n",
       " '_i35',\n",
       " '_i36',\n",
       " '_i37',\n",
       " '_i38',\n",
       " '_i39',\n",
       " '_i4',\n",
       " '_i40',\n",
       " '_i41',\n",
       " '_i42',\n",
       " '_i43',\n",
       " '_i44',\n",
       " '_i45',\n",
       " '_i46',\n",
       " '_i47',\n",
       " '_i48',\n",
       " '_i49',\n",
       " '_i5',\n",
       " '_i50',\n",
       " '_i51',\n",
       " '_i52',\n",
       " '_i53',\n",
       " '_i54',\n",
       " '_i55',\n",
       " '_i56',\n",
       " '_i57',\n",
       " '_i58',\n",
       " '_i59',\n",
       " '_i6',\n",
       " '_i60',\n",
       " '_i61',\n",
       " '_i62',\n",
       " '_i63',\n",
       " '_i64',\n",
       " '_i65',\n",
       " '_i66',\n",
       " '_i67',\n",
       " '_i68',\n",
       " '_i69',\n",
       " '_i7',\n",
       " '_i70',\n",
       " '_i71',\n",
       " '_i72',\n",
       " '_i73',\n",
       " '_i74',\n",
       " '_i75',\n",
       " '_i76',\n",
       " '_i77',\n",
       " '_i78',\n",
       " '_i79',\n",
       " '_i8',\n",
       " '_i80',\n",
       " '_i81',\n",
       " '_i82',\n",
       " '_i83',\n",
       " '_i9',\n",
       " '_ih',\n",
       " '_ii',\n",
       " '_iii',\n",
       " '_oh',\n",
       " 'a',\n",
       " 'autopep8',\n",
       " 'changeme',\n",
       " 'exit',\n",
       " 'foo',\n",
       " 'get_ipython',\n",
       " 'json',\n",
       " 'jumlahHewan',\n",
       " 'jumlahkelinci',\n",
       " 'jumlahkucing',\n",
       " 'luas',\n",
       " 'my_function',\n",
       " 'mylist',\n",
       " 'printinfo',\n",
       " 'printme',\n",
       " 'quit',\n",
       " 'qux',\n",
       " 's',\n",
       " 'sum',\n",
       " 'sum_l',\n",
       " 'sys',\n",
       " 'total']"
      ]
     },
     "execution_count": 83,
     "metadata": {},
     "output_type": "execute_result"
    }
   ],
   "source": [
    "dir()"
   ]
  },
  {
   "cell_type": "code",
   "execution_count": 84,
   "id": "353e4798",
   "metadata": {},
   "outputs": [
    {
     "data": {
      "text/plain": [
       "['Bar',\n",
       " 'Foo',\n",
       " 'In',\n",
       " 'Mod',\n",
       " 'Out',\n",
       " '_',\n",
       " '_12',\n",
       " '_36',\n",
       " '_37',\n",
       " '_38',\n",
       " '_57',\n",
       " '_71',\n",
       " '_75',\n",
       " '_76',\n",
       " '_81',\n",
       " '_83',\n",
       " '__',\n",
       " '___',\n",
       " '__builtin__',\n",
       " '__builtins__',\n",
       " '__doc__',\n",
       " '__loader__',\n",
       " '__name__',\n",
       " '__nonzero__',\n",
       " '__package__',\n",
       " '__spec__',\n",
       " '_dh',\n",
       " '_i',\n",
       " '_i1',\n",
       " '_i10',\n",
       " '_i11',\n",
       " '_i12',\n",
       " '_i13',\n",
       " '_i14',\n",
       " '_i15',\n",
       " '_i16',\n",
       " '_i17',\n",
       " '_i18',\n",
       " '_i19',\n",
       " '_i2',\n",
       " '_i20',\n",
       " '_i21',\n",
       " '_i22',\n",
       " '_i23',\n",
       " '_i24',\n",
       " '_i25',\n",
       " '_i26',\n",
       " '_i27',\n",
       " '_i28',\n",
       " '_i29',\n",
       " '_i3',\n",
       " '_i30',\n",
       " '_i31',\n",
       " '_i32',\n",
       " '_i33',\n",
       " '_i34',\n",
       " '_i35',\n",
       " '_i36',\n",
       " '_i37',\n",
       " '_i38',\n",
       " '_i39',\n",
       " '_i4',\n",
       " '_i40',\n",
       " '_i41',\n",
       " '_i42',\n",
       " '_i43',\n",
       " '_i44',\n",
       " '_i45',\n",
       " '_i46',\n",
       " '_i47',\n",
       " '_i48',\n",
       " '_i49',\n",
       " '_i5',\n",
       " '_i50',\n",
       " '_i51',\n",
       " '_i52',\n",
       " '_i53',\n",
       " '_i54',\n",
       " '_i55',\n",
       " '_i56',\n",
       " '_i57',\n",
       " '_i58',\n",
       " '_i59',\n",
       " '_i6',\n",
       " '_i60',\n",
       " '_i61',\n",
       " '_i62',\n",
       " '_i63',\n",
       " '_i64',\n",
       " '_i65',\n",
       " '_i66',\n",
       " '_i67',\n",
       " '_i68',\n",
       " '_i69',\n",
       " '_i7',\n",
       " '_i70',\n",
       " '_i71',\n",
       " '_i72',\n",
       " '_i73',\n",
       " '_i74',\n",
       " '_i75',\n",
       " '_i76',\n",
       " '_i77',\n",
       " '_i78',\n",
       " '_i79',\n",
       " '_i8',\n",
       " '_i80',\n",
       " '_i81',\n",
       " '_i82',\n",
       " '_i83',\n",
       " '_i84',\n",
       " '_i9',\n",
       " '_ih',\n",
       " '_ii',\n",
       " '_iii',\n",
       " '_oh',\n",
       " 'a',\n",
       " 'autopep8',\n",
       " 'changeme',\n",
       " 'exit',\n",
       " 'foo',\n",
       " 'get_ipython',\n",
       " 'json',\n",
       " 'jumlahHewan',\n",
       " 'jumlahkelinci',\n",
       " 'jumlahkucing',\n",
       " 'luas',\n",
       " 'my_function',\n",
       " 'mylist',\n",
       " 'printinfo',\n",
       " 'printme',\n",
       " 'quit',\n",
       " 'qux',\n",
       " 's',\n",
       " 'sum',\n",
       " 'sum_l',\n",
       " 'sys',\n",
       " 'total',\n",
       " 'x']"
      ]
     },
     "execution_count": 84,
     "metadata": {},
     "output_type": "execute_result"
    }
   ],
   "source": [
    "class Bar():\n",
    "    pass\n",
    "\n",
    "x = Bar()\n",
    "dir()"
   ]
  },
  {
   "cell_type": "markdown",
   "id": "131508b6",
   "metadata": {},
   "source": [
    "## Executing Module as a Script"
   ]
  },
  {
   "cell_type": "code",
   "execution_count": null,
   "id": "f833ada8",
   "metadata": {},
   "outputs": [],
   "source": [
    "# %load Mod.py\n",
    "s = \"Hacktiv8-PtP Python For Data Science\"\n",
    "a = [100, 200, 300]\n",
    "def foo(arg):\n",
    "    print(f'arg = {arg}')\n",
    "class Foo:\n",
    "    pass"
   ]
  },
  {
   "cell_type": "code",
   "execution_count": 88,
   "id": "e665e07c",
   "metadata": {},
   "outputs": [],
   "source": [
    "from fact import fact"
   ]
  },
  {
   "cell_type": "code",
   "execution_count": 89,
   "id": "0ef46685",
   "metadata": {},
   "outputs": [
    {
     "data": {
      "text/plain": [
       "720"
      ]
     },
     "execution_count": 89,
     "metadata": {},
     "output_type": "execute_result"
    }
   ],
   "source": [
    "fact(6)"
   ]
  },
  {
   "cell_type": "markdown",
   "id": "b6fd8dfb",
   "metadata": {},
   "source": [
    "# Python Package"
   ]
  },
  {
   "cell_type": "code",
   "execution_count": 92,
   "id": "627bddce",
   "metadata": {},
   "outputs": [
    {
     "ename": "ModuleNotFoundError",
     "evalue": "No module named 'pkg'",
     "output_type": "error",
     "traceback": [
      "\u001b[1;31m---------------------------------------------------------------------------\u001b[0m",
      "\u001b[1;31mModuleNotFoundError\u001b[0m                       Traceback (most recent call last)",
      "Input \u001b[1;32mIn [92]\u001b[0m, in \u001b[0;36m<cell line: 1>\u001b[1;34m()\u001b[0m\n\u001b[1;32m----> 1\u001b[0m \u001b[38;5;28;01mimport\u001b[39;00m \u001b[38;5;21;01mpkg\u001b[39;00m\u001b[38;5;21;01m.\u001b[39;00m\u001b[38;5;21;01mmod1\u001b[39;00m\u001b[38;5;241m,\u001b[39m \u001b[38;5;21;01mpkg\u001b[39;00m\u001b[38;5;21;01m.\u001b[39;00m\u001b[38;5;21;01mmod2\u001b[39;00m\n",
      "\u001b[1;31mModuleNotFoundError\u001b[0m: No module named 'pkg'"
     ]
    }
   ],
   "source": [
    "import pkg.mod1, pkg.mod2"
   ]
  },
  {
   "cell_type": "markdown",
   "id": "d869480d",
   "metadata": {},
   "source": [
    "pkg merupakan file dalam satu directory yang sama"
   ]
  }
 ],
 "metadata": {
  "kernelspec": {
   "display_name": "Python 3 (ipykernel)",
   "language": "python",
   "name": "python3"
  },
  "language_info": {
   "codemirror_mode": {
    "name": "ipython",
    "version": 3
   },
   "file_extension": ".py",
   "mimetype": "text/x-python",
   "name": "python",
   "nbconvert_exporter": "python",
   "pygments_lexer": "ipython3",
   "version": "3.9.12"
  },
  "toc": {
   "base_numbering": 1,
   "nav_menu": {},
   "number_sections": true,
   "sideBar": true,
   "skip_h1_title": false,
   "title_cell": "Table of Contents",
   "title_sidebar": "Contents",
   "toc_cell": false,
   "toc_position": {},
   "toc_section_display": true,
   "toc_window_display": true
  }
 },
 "nbformat": 4,
 "nbformat_minor": 5
}
