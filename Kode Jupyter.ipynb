{
 "cells": [
  {
   "cell_type": "markdown",
   "id": "d316a274",
   "metadata": {},
   "source": [
    "# Kode Jupyter"
   ]
  },
  {
   "cell_type": "markdown",
   "id": "f0ae781e",
   "metadata": {},
   "source": [
    "## Simple Syntax"
   ]
  },
  {
   "cell_type": "code",
   "execution_count": 1,
   "id": "77886de2",
   "metadata": {},
   "outputs": [
    {
     "name": "stdout",
     "output_type": "stream",
     "text": [
      "Halo Bro\n"
     ]
    }
   ],
   "source": [
    "print(\"Halo Bro\")"
   ]
  },
  {
   "cell_type": "code",
   "execution_count": 2,
   "id": "39a1eaae",
   "metadata": {},
   "outputs": [
    {
     "name": "stdout",
     "output_type": "stream",
     "text": [
      "1\n",
      "2\n",
      "3\n",
      "4\n",
      "5\n",
      "6\n",
      "7\n",
      "8\n",
      "9\n",
      "10\n"
     ]
    }
   ],
   "source": [
    "for i in range(1,11) : \n",
    "    print(i)"
   ]
  },
  {
   "cell_type": "markdown",
   "id": "2c339712",
   "metadata": {},
   "source": [
    "## Using Library"
   ]
  },
  {
   "cell_type": "code",
   "execution_count": 3,
   "id": "3b839251",
   "metadata": {},
   "outputs": [],
   "source": [
    "import pandas as pd"
   ]
  },
  {
   "cell_type": "code",
   "execution_count": 4,
   "id": "1b134754",
   "metadata": {},
   "outputs": [],
   "source": [
    "import numpy as np"
   ]
  },
  {
   "cell_type": "code",
   "execution_count": 5,
   "id": "9d9a1bad",
   "metadata": {},
   "outputs": [
    {
     "data": {
      "text/html": [
       "<div>\n",
       "<style scoped>\n",
       "    .dataframe tbody tr th:only-of-type {\n",
       "        vertical-align: middle;\n",
       "    }\n",
       "\n",
       "    .dataframe tbody tr th {\n",
       "        vertical-align: top;\n",
       "    }\n",
       "\n",
       "    .dataframe thead th {\n",
       "        text-align: right;\n",
       "    }\n",
       "</style>\n",
       "<table border=\"1\" class=\"dataframe\">\n",
       "  <thead>\n",
       "    <tr style=\"text-align: right;\">\n",
       "      <th></th>\n",
       "      <th>A</th>\n",
       "      <th>B</th>\n",
       "      <th>C</th>\n",
       "    </tr>\n",
       "  </thead>\n",
       "  <tbody>\n",
       "    <tr>\n",
       "      <th>0</th>\n",
       "      <td>1</td>\n",
       "      <td>2</td>\n",
       "      <td>3</td>\n",
       "    </tr>\n",
       "    <tr>\n",
       "      <th>1</th>\n",
       "      <td>4</td>\n",
       "      <td>5</td>\n",
       "      <td>6</td>\n",
       "    </tr>\n",
       "  </tbody>\n",
       "</table>\n",
       "</div>"
      ],
      "text/plain": [
       "   A  B  C\n",
       "0  1  2  3\n",
       "1  4  5  6"
      ]
     },
     "execution_count": 5,
     "metadata": {},
     "output_type": "execute_result"
    }
   ],
   "source": [
    "df = pd.DataFrame(data=np.array([[1,2,3], [4,5,6]], dtype=int), columns=['A','B', 'C'])\n",
    "df"
   ]
  },
  {
   "cell_type": "markdown",
   "id": "66f46c85",
   "metadata": {},
   "source": [
    "## Using LaTex"
   ]
  },
  {
   "cell_type": "markdown",
   "id": "ccc92ece",
   "metadata": {},
   "source": [
    "$$c = \\sqrt{a^2+b^2}$$"
   ]
  },
  {
   "cell_type": "code",
   "execution_count": 6,
   "id": "b12ad179",
   "metadata": {},
   "outputs": [
    {
     "data": {
      "text/latex": [
       "$\\displaystyle \\sqrt{a^2 + b^2}$"
      ],
      "text/plain": [
       "<IPython.core.display.Math object>"
      ]
     },
     "metadata": {},
     "output_type": "display_data"
    }
   ],
   "source": [
    "from IPython.display import display, Math, Latex\n",
    "display(Math(r'\\sqrt{a^2 + b^2}'))"
   ]
  },
  {
   "cell_type": "markdown",
   "id": "8ed9cd2b",
   "metadata": {},
   "source": [
    "## Executing Shell Commands"
   ]
  },
  {
   "cell_type": "code",
   "execution_count": 7,
   "id": "4b96d57c",
   "metadata": {},
   "outputs": [
    {
     "name": "stdout",
     "output_type": "stream",
     "text": [
      " Volume in drive C is Windows\n",
      " Volume Serial Number is 3465-D529\n",
      "\n",
      " Directory of C:\\Users\\andon\\Desktop\\Hacktiv 8 Data Science\n",
      "\n",
      "22/08/2022  15:48    <DIR>          .\n",
      "22/08/2022  15:48    <DIR>          ..\n",
      "22/08/2022  13:52    <DIR>          .ipynb_checkpoints\n",
      "22/08/2022  15:48            44.615 Kode Jupyter.ipynb\n",
      "               1 File(s)         44.615 bytes\n",
      "               3 Dir(s)  91.134.357.504 bytes free\n"
     ]
    }
   ],
   "source": [
    "!dir"
   ]
  },
  {
   "cell_type": "markdown",
   "id": "2979667d",
   "metadata": {},
   "source": [
    "# Library Extension"
   ]
  },
  {
   "cell_type": "code",
   "execution_count": 8,
   "id": "7b18ab23",
   "metadata": {},
   "outputs": [
    {
     "name": "stdout",
     "output_type": "stream",
     "text": [
      "Requirement already satisfied: jupyterthemes in c:\\users\\andon\\appdata\\local\\packages\\pythonsoftwarefoundation.python.3.9_qbz5n2kfra8p0\\localcache\\local-packages\\python39\\site-packages (0.20.0)\n",
      "Requirement already satisfied: notebook>=5.6.0 in c:\\users\\andon\\appdata\\local\\packages\\pythonsoftwarefoundation.python.3.9_qbz5n2kfra8p0\\localcache\\local-packages\\python39\\site-packages (from jupyterthemes) (6.4.12)\n",
      "Requirement already satisfied: jupyter-core in c:\\users\\andon\\appdata\\local\\packages\\pythonsoftwarefoundation.python.3.9_qbz5n2kfra8p0\\localcache\\local-packages\\python39\\site-packages (from jupyterthemes) (4.11.1)\n",
      "Requirement already satisfied: lesscpy>=0.11.2 in c:\\users\\andon\\appdata\\local\\packages\\pythonsoftwarefoundation.python.3.9_qbz5n2kfra8p0\\localcache\\local-packages\\python39\\site-packages (from jupyterthemes) (0.15.0)\n",
      "Requirement already satisfied: ipython>=5.4.1 in c:\\users\\andon\\appdata\\local\\packages\\pythonsoftwarefoundation.python.3.9_qbz5n2kfra8p0\\localcache\\local-packages\\python39\\site-packages (from jupyterthemes) (8.4.0)\n",
      "Requirement already satisfied: matplotlib>=1.4.3 in c:\\users\\andon\\appdata\\local\\packages\\pythonsoftwarefoundation.python.3.9_qbz5n2kfra8p0\\localcache\\local-packages\\python39\\site-packages (from jupyterthemes) (3.5.3)\n",
      "Requirement already satisfied: pygments>=2.4.0 in c:\\users\\andon\\appdata\\local\\packages\\pythonsoftwarefoundation.python.3.9_qbz5n2kfra8p0\\localcache\\local-packages\\python39\\site-packages (from ipython>=5.4.1->jupyterthemes) (2.13.0)\n",
      "Requirement already satisfied: setuptools>=18.5 in c:\\program files\\windowsapps\\pythonsoftwarefoundation.python.3.9_3.9.3568.0_x64__qbz5n2kfra8p0\\lib\\site-packages (from ipython>=5.4.1->jupyterthemes) (58.1.0)\n",
      "Requirement already satisfied: matplotlib-inline in c:\\users\\andon\\appdata\\local\\packages\\pythonsoftwarefoundation.python.3.9_qbz5n2kfra8p0\\localcache\\local-packages\\python39\\site-packages (from ipython>=5.4.1->jupyterthemes) (0.1.6)\n",
      "Requirement already satisfied: prompt-toolkit!=3.0.0,!=3.0.1,<3.1.0,>=2.0.0 in c:\\users\\andon\\appdata\\local\\packages\\pythonsoftwarefoundation.python.3.9_qbz5n2kfra8p0\\localcache\\local-packages\\python39\\site-packages (from ipython>=5.4.1->jupyterthemes) (3.0.30)\n",
      "Requirement already satisfied: backcall in c:\\users\\andon\\appdata\\local\\packages\\pythonsoftwarefoundation.python.3.9_qbz5n2kfra8p0\\localcache\\local-packages\\python39\\site-packages (from ipython>=5.4.1->jupyterthemes) (0.2.0)\n",
      "Requirement already satisfied: pickleshare in c:\\users\\andon\\appdata\\local\\packages\\pythonsoftwarefoundation.python.3.9_qbz5n2kfra8p0\\localcache\\local-packages\\python39\\site-packages (from ipython>=5.4.1->jupyterthemes) (0.7.5)\n",
      "Requirement already satisfied: colorama in c:\\users\\andon\\appdata\\local\\packages\\pythonsoftwarefoundation.python.3.9_qbz5n2kfra8p0\\localcache\\local-packages\\python39\\site-packages (from ipython>=5.4.1->jupyterthemes) (0.4.5)\n",
      "Requirement already satisfied: traitlets>=5 in c:\\users\\andon\\appdata\\local\\packages\\pythonsoftwarefoundation.python.3.9_qbz5n2kfra8p0\\localcache\\local-packages\\python39\\site-packages (from ipython>=5.4.1->jupyterthemes) (5.3.0)\n",
      "Requirement already satisfied: jedi>=0.16 in c:\\users\\andon\\appdata\\local\\packages\\pythonsoftwarefoundation.python.3.9_qbz5n2kfra8p0\\localcache\\local-packages\\python39\\site-packages (from ipython>=5.4.1->jupyterthemes) (0.18.1)\n",
      "Requirement already satisfied: stack-data in c:\\users\\andon\\appdata\\local\\packages\\pythonsoftwarefoundation.python.3.9_qbz5n2kfra8p0\\localcache\\local-packages\\python39\\site-packages (from ipython>=5.4.1->jupyterthemes) (0.4.0)\n",
      "Requirement already satisfied: decorator in c:\\users\\andon\\appdata\\local\\packages\\pythonsoftwarefoundation.python.3.9_qbz5n2kfra8p0\\localcache\\local-packages\\python39\\site-packages (from ipython>=5.4.1->jupyterthemes) (5.1.1)\n",
      "Requirement already satisfied: ply in c:\\users\\andon\\appdata\\local\\packages\\pythonsoftwarefoundation.python.3.9_qbz5n2kfra8p0\\localcache\\local-packages\\python39\\site-packages (from lesscpy>=0.11.2->jupyterthemes) (3.11)\n",
      "Requirement already satisfied: six in c:\\users\\andon\\appdata\\local\\packages\\pythonsoftwarefoundation.python.3.9_qbz5n2kfra8p0\\localcache\\local-packages\\python39\\site-packages (from lesscpy>=0.11.2->jupyterthemes) (1.16.0)\n",
      "Requirement already satisfied: packaging>=20.0 in c:\\users\\andon\\appdata\\local\\packages\\pythonsoftwarefoundation.python.3.9_qbz5n2kfra8p0\\localcache\\local-packages\\python39\\site-packages (from matplotlib>=1.4.3->jupyterthemes) (21.3)\n",
      "Requirement already satisfied: pillow>=6.2.0 in c:\\users\\andon\\appdata\\local\\packages\\pythonsoftwarefoundation.python.3.9_qbz5n2kfra8p0\\localcache\\local-packages\\python39\\site-packages (from matplotlib>=1.4.3->jupyterthemes) (9.2.0)\n",
      "Requirement already satisfied: python-dateutil>=2.7 in c:\\users\\andon\\appdata\\local\\packages\\pythonsoftwarefoundation.python.3.9_qbz5n2kfra8p0\\localcache\\local-packages\\python39\\site-packages (from matplotlib>=1.4.3->jupyterthemes) (2.8.2)\n",
      "Requirement already satisfied: fonttools>=4.22.0 in c:\\users\\andon\\appdata\\local\\packages\\pythonsoftwarefoundation.python.3.9_qbz5n2kfra8p0\\localcache\\local-packages\\python39\\site-packages (from matplotlib>=1.4.3->jupyterthemes) (4.36.0)\n",
      "Requirement already satisfied: cycler>=0.10 in c:\\users\\andon\\appdata\\local\\packages\\pythonsoftwarefoundation.python.3.9_qbz5n2kfra8p0\\localcache\\local-packages\\python39\\site-packages (from matplotlib>=1.4.3->jupyterthemes) (0.11.0)\n",
      "Requirement already satisfied: kiwisolver>=1.0.1 in c:\\users\\andon\\appdata\\local\\packages\\pythonsoftwarefoundation.python.3.9_qbz5n2kfra8p0\\localcache\\local-packages\\python39\\site-packages (from matplotlib>=1.4.3->jupyterthemes) (1.4.4)\n",
      "Requirement already satisfied: pyparsing>=2.2.1 in c:\\users\\andon\\appdata\\local\\packages\\pythonsoftwarefoundation.python.3.9_qbz5n2kfra8p0\\localcache\\local-packages\\python39\\site-packages (from matplotlib>=1.4.3->jupyterthemes) (3.0.9)\n",
      "Requirement already satisfied: numpy>=1.17 in c:\\users\\andon\\appdata\\local\\packages\\pythonsoftwarefoundation.python.3.9_qbz5n2kfra8p0\\localcache\\local-packages\\python39\\site-packages (from matplotlib>=1.4.3->jupyterthemes) (1.23.1)\n",
      "Requirement already satisfied: nest-asyncio>=1.5 in c:\\users\\andon\\appdata\\local\\packages\\pythonsoftwarefoundation.python.3.9_qbz5n2kfra8p0\\localcache\\local-packages\\python39\\site-packages (from notebook>=5.6.0->jupyterthemes) (1.5.5)\n",
      "Requirement already satisfied: nbconvert>=5 in c:\\users\\andon\\appdata\\local\\packages\\pythonsoftwarefoundation.python.3.9_qbz5n2kfra8p0\\localcache\\local-packages\\python39\\site-packages (from notebook>=5.6.0->jupyterthemes) (6.5.3)\n",
      "Requirement already satisfied: pyzmq>=17 in c:\\users\\andon\\appdata\\local\\packages\\pythonsoftwarefoundation.python.3.9_qbz5n2kfra8p0\\localcache\\local-packages\\python39\\site-packages (from notebook>=5.6.0->jupyterthemes) (23.2.1)\n",
      "Requirement already satisfied: jupyter-client>=5.3.4 in c:\\users\\andon\\appdata\\local\\packages\\pythonsoftwarefoundation.python.3.9_qbz5n2kfra8p0\\localcache\\local-packages\\python39\\site-packages (from notebook>=5.6.0->jupyterthemes) (7.3.4)\n",
      "Requirement already satisfied: argon2-cffi in c:\\users\\andon\\appdata\\local\\packages\\pythonsoftwarefoundation.python.3.9_qbz5n2kfra8p0\\localcache\\local-packages\\python39\\site-packages (from notebook>=5.6.0->jupyterthemes) (21.3.0)\n",
      "Requirement already satisfied: ipykernel in c:\\users\\andon\\appdata\\local\\packages\\pythonsoftwarefoundation.python.3.9_qbz5n2kfra8p0\\localcache\\local-packages\\python39\\site-packages (from notebook>=5.6.0->jupyterthemes) (6.15.1)\n",
      "Requirement already satisfied: nbformat in c:\\users\\andon\\appdata\\local\\packages\\pythonsoftwarefoundation.python.3.9_qbz5n2kfra8p0\\localcache\\local-packages\\python39\\site-packages (from notebook>=5.6.0->jupyterthemes) (5.4.0)\n",
      "Requirement already satisfied: tornado>=6.1 in c:\\users\\andon\\appdata\\local\\packages\\pythonsoftwarefoundation.python.3.9_qbz5n2kfra8p0\\localcache\\local-packages\\python39\\site-packages (from notebook>=5.6.0->jupyterthemes) (6.2)\n",
      "Requirement already satisfied: ipython-genutils in c:\\users\\andon\\appdata\\local\\packages\\pythonsoftwarefoundation.python.3.9_qbz5n2kfra8p0\\localcache\\local-packages\\python39\\site-packages (from notebook>=5.6.0->jupyterthemes) (0.2.0)\n",
      "Requirement already satisfied: prometheus-client in c:\\users\\andon\\appdata\\local\\packages\\pythonsoftwarefoundation.python.3.9_qbz5n2kfra8p0\\localcache\\local-packages\\python39\\site-packages (from notebook>=5.6.0->jupyterthemes) (0.14.1)\n",
      "Requirement already satisfied: jinja2 in c:\\users\\andon\\appdata\\local\\packages\\pythonsoftwarefoundation.python.3.9_qbz5n2kfra8p0\\localcache\\local-packages\\python39\\site-packages (from notebook>=5.6.0->jupyterthemes) (3.1.2)\n",
      "Requirement already satisfied: terminado>=0.8.3 in c:\\users\\andon\\appdata\\local\\packages\\pythonsoftwarefoundation.python.3.9_qbz5n2kfra8p0\\localcache\\local-packages\\python39\\site-packages (from notebook>=5.6.0->jupyterthemes) (0.15.0)\n",
      "Requirement already satisfied: Send2Trash>=1.8.0 in c:\\users\\andon\\appdata\\local\\packages\\pythonsoftwarefoundation.python.3.9_qbz5n2kfra8p0\\localcache\\local-packages\\python39\\site-packages (from notebook>=5.6.0->jupyterthemes) (1.8.0)\n",
      "Requirement already satisfied: pywin32>=1.0 in c:\\users\\andon\\appdata\\local\\packages\\pythonsoftwarefoundation.python.3.9_qbz5n2kfra8p0\\localcache\\local-packages\\python39\\site-packages (from jupyter-core->jupyterthemes) (304)\n",
      "Requirement already satisfied: parso<0.9.0,>=0.8.0 in c:\\users\\andon\\appdata\\local\\packages\\pythonsoftwarefoundation.python.3.9_qbz5n2kfra8p0\\localcache\\local-packages\\python39\\site-packages (from jedi>=0.16->ipython>=5.4.1->jupyterthemes) (0.8.3)\n",
      "Requirement already satisfied: entrypoints in c:\\users\\andon\\appdata\\local\\packages\\pythonsoftwarefoundation.python.3.9_qbz5n2kfra8p0\\localcache\\local-packages\\python39\\site-packages (from jupyter-client>=5.3.4->notebook>=5.6.0->jupyterthemes) (0.4)\n",
      "Requirement already satisfied: jupyterlab-pygments in c:\\users\\andon\\appdata\\local\\packages\\pythonsoftwarefoundation.python.3.9_qbz5n2kfra8p0\\localcache\\local-packages\\python39\\site-packages (from nbconvert>=5->notebook>=5.6.0->jupyterthemes) (0.2.2)\n",
      "Requirement already satisfied: defusedxml in c:\\users\\andon\\appdata\\local\\packages\\pythonsoftwarefoundation.python.3.9_qbz5n2kfra8p0\\localcache\\local-packages\\python39\\site-packages (from nbconvert>=5->notebook>=5.6.0->jupyterthemes) (0.7.1)\n",
      "Requirement already satisfied: beautifulsoup4 in c:\\users\\andon\\appdata\\local\\packages\\pythonsoftwarefoundation.python.3.9_qbz5n2kfra8p0\\localcache\\local-packages\\python39\\site-packages (from nbconvert>=5->notebook>=5.6.0->jupyterthemes) (4.11.1)\n",
      "Requirement already satisfied: mistune<2,>=0.8.1 in c:\\users\\andon\\appdata\\local\\packages\\pythonsoftwarefoundation.python.3.9_qbz5n2kfra8p0\\localcache\\local-packages\\python39\\site-packages (from nbconvert>=5->notebook>=5.6.0->jupyterthemes) (0.8.4)\n",
      "Requirement already satisfied: tinycss2 in c:\\users\\andon\\appdata\\local\\packages\\pythonsoftwarefoundation.python.3.9_qbz5n2kfra8p0\\localcache\\local-packages\\python39\\site-packages (from nbconvert>=5->notebook>=5.6.0->jupyterthemes) (1.1.1)\n",
      "Requirement already satisfied: pandocfilters>=1.4.1 in c:\\users\\andon\\appdata\\local\\packages\\pythonsoftwarefoundation.python.3.9_qbz5n2kfra8p0\\localcache\\local-packages\\python39\\site-packages (from nbconvert>=5->notebook>=5.6.0->jupyterthemes) (1.5.0)\n",
      "Requirement already satisfied: lxml in c:\\users\\andon\\appdata\\local\\packages\\pythonsoftwarefoundation.python.3.9_qbz5n2kfra8p0\\localcache\\local-packages\\python39\\site-packages (from nbconvert>=5->notebook>=5.6.0->jupyterthemes) (4.9.1)\n",
      "Requirement already satisfied: MarkupSafe>=2.0 in c:\\users\\andon\\appdata\\local\\packages\\pythonsoftwarefoundation.python.3.9_qbz5n2kfra8p0\\localcache\\local-packages\\python39\\site-packages (from nbconvert>=5->notebook>=5.6.0->jupyterthemes) (2.1.1)\n",
      "Requirement already satisfied: nbclient>=0.5.0 in c:\\users\\andon\\appdata\\local\\packages\\pythonsoftwarefoundation.python.3.9_qbz5n2kfra8p0\\localcache\\local-packages\\python39\\site-packages (from nbconvert>=5->notebook>=5.6.0->jupyterthemes) (0.6.6)\n",
      "Requirement already satisfied: bleach in c:\\users\\andon\\appdata\\local\\packages\\pythonsoftwarefoundation.python.3.9_qbz5n2kfra8p0\\localcache\\local-packages\\python39\\site-packages (from nbconvert>=5->notebook>=5.6.0->jupyterthemes) (5.0.1)\n",
      "Requirement already satisfied: fastjsonschema in c:\\users\\andon\\appdata\\local\\packages\\pythonsoftwarefoundation.python.3.9_qbz5n2kfra8p0\\localcache\\local-packages\\python39\\site-packages (from nbformat->notebook>=5.6.0->jupyterthemes) (2.16.1)\n",
      "Requirement already satisfied: jsonschema>=2.6 in c:\\users\\andon\\appdata\\local\\packages\\pythonsoftwarefoundation.python.3.9_qbz5n2kfra8p0\\localcache\\local-packages\\python39\\site-packages (from nbformat->notebook>=5.6.0->jupyterthemes) (4.14.0)\n",
      "Requirement already satisfied: wcwidth in c:\\users\\andon\\appdata\\local\\packages\\pythonsoftwarefoundation.python.3.9_qbz5n2kfra8p0\\localcache\\local-packages\\python39\\site-packages (from prompt-toolkit!=3.0.0,!=3.0.1,<3.1.0,>=2.0.0->ipython>=5.4.1->jupyterthemes) (0.2.5)\n",
      "Requirement already satisfied: pywinpty>=1.1.0 in c:\\users\\andon\\appdata\\local\\packages\\pythonsoftwarefoundation.python.3.9_qbz5n2kfra8p0\\localcache\\local-packages\\python39\\site-packages (from terminado>=0.8.3->notebook>=5.6.0->jupyterthemes) (2.0.7)\n",
      "Requirement already satisfied: argon2-cffi-bindings in c:\\users\\andon\\appdata\\local\\packages\\pythonsoftwarefoundation.python.3.9_qbz5n2kfra8p0\\localcache\\local-packages\\python39\\site-packages (from argon2-cffi->notebook>=5.6.0->jupyterthemes) (21.2.0)\n",
      "Requirement already satisfied: debugpy>=1.0 in c:\\users\\andon\\appdata\\local\\packages\\pythonsoftwarefoundation.python.3.9_qbz5n2kfra8p0\\localcache\\local-packages\\python39\\site-packages (from ipykernel->notebook>=5.6.0->jupyterthemes) (1.6.3)\n",
      "Requirement already satisfied: psutil in c:\\users\\andon\\appdata\\local\\packages\\pythonsoftwarefoundation.python.3.9_qbz5n2kfra8p0\\localcache\\local-packages\\python39\\site-packages (from ipykernel->notebook>=5.6.0->jupyterthemes) (5.9.1)\n",
      "Requirement already satisfied: executing in c:\\users\\andon\\appdata\\local\\packages\\pythonsoftwarefoundation.python.3.9_qbz5n2kfra8p0\\localcache\\local-packages\\python39\\site-packages (from stack-data->ipython>=5.4.1->jupyterthemes) (0.10.0)\n",
      "Requirement already satisfied: asttokens in c:\\users\\andon\\appdata\\local\\packages\\pythonsoftwarefoundation.python.3.9_qbz5n2kfra8p0\\localcache\\local-packages\\python39\\site-packages (from stack-data->ipython>=5.4.1->jupyterthemes) (2.0.8)\n",
      "Requirement already satisfied: pure-eval in c:\\users\\andon\\appdata\\local\\packages\\pythonsoftwarefoundation.python.3.9_qbz5n2kfra8p0\\localcache\\local-packages\\python39\\site-packages (from stack-data->ipython>=5.4.1->jupyterthemes) (0.2.2)\n",
      "Requirement already satisfied: pyrsistent!=0.17.0,!=0.17.1,!=0.17.2,>=0.14.0 in c:\\users\\andon\\appdata\\local\\packages\\pythonsoftwarefoundation.python.3.9_qbz5n2kfra8p0\\localcache\\local-packages\\python39\\site-packages (from jsonschema>=2.6->nbformat->notebook>=5.6.0->jupyterthemes) (0.18.1)\n",
      "Requirement already satisfied: attrs>=17.4.0 in c:\\users\\andon\\appdata\\local\\packages\\pythonsoftwarefoundation.python.3.9_qbz5n2kfra8p0\\localcache\\local-packages\\python39\\site-packages (from jsonschema>=2.6->nbformat->notebook>=5.6.0->jupyterthemes) (22.1.0)\n",
      "Requirement already satisfied: cffi>=1.0.1 in c:\\users\\andon\\appdata\\local\\packages\\pythonsoftwarefoundation.python.3.9_qbz5n2kfra8p0\\localcache\\local-packages\\python39\\site-packages (from argon2-cffi-bindings->argon2-cffi->notebook>=5.6.0->jupyterthemes) (1.15.1)\n",
      "Requirement already satisfied: soupsieve>1.2 in c:\\users\\andon\\appdata\\local\\packages\\pythonsoftwarefoundation.python.3.9_qbz5n2kfra8p0\\localcache\\local-packages\\python39\\site-packages (from beautifulsoup4->nbconvert>=5->notebook>=5.6.0->jupyterthemes) (2.3.2.post1)\n",
      "Requirement already satisfied: webencodings in c:\\users\\andon\\appdata\\local\\packages\\pythonsoftwarefoundation.python.3.9_qbz5n2kfra8p0\\localcache\\local-packages\\python39\\site-packages (from bleach->nbconvert>=5->notebook>=5.6.0->jupyterthemes) (0.5.1)\n",
      "Requirement already satisfied: pycparser in c:\\users\\andon\\appdata\\local\\packages\\pythonsoftwarefoundation.python.3.9_qbz5n2kfra8p0\\localcache\\local-packages\\python39\\site-packages (from cffi>=1.0.1->argon2-cffi-bindings->argon2-cffi->notebook>=5.6.0->jupyterthemes) (2.21)\n"
     ]
    }
   ],
   "source": [
    "!pip install jupyterthemes "
   ]
  },
  {
   "cell_type": "code",
   "execution_count": 9,
   "id": "99b5619b",
   "metadata": {},
   "outputs": [
    {
     "name": "stdout",
     "output_type": "stream",
     "text": [
      "Requirement already satisfied: jupyter_contrib_nbextensions in c:\\users\\andon\\appdata\\local\\packages\\pythonsoftwarefoundation.python.3.9_qbz5n2kfra8p0\\localcache\\local-packages\\python39\\site-packages (0.5.1)\n",
      "Requirement already satisfied: jupyter-core in c:\\users\\andon\\appdata\\local\\packages\\pythonsoftwarefoundation.python.3.9_qbz5n2kfra8p0\\localcache\\local-packages\\python39\\site-packages (from jupyter_contrib_nbextensions) (4.11.1)\n",
      "Requirement already satisfied: tornado in c:\\users\\andon\\appdata\\local\\packages\\pythonsoftwarefoundation.python.3.9_qbz5n2kfra8p0\\localcache\\local-packages\\python39\\site-packages (from jupyter_contrib_nbextensions) (6.2)\n",
      "Requirement already satisfied: jupyter-highlight-selected-word>=0.1.1 in c:\\users\\andon\\appdata\\local\\packages\\pythonsoftwarefoundation.python.3.9_qbz5n2kfra8p0\\localcache\\local-packages\\python39\\site-packages (from jupyter_contrib_nbextensions) (0.2.0)\n",
      "Requirement already satisfied: jupyter-nbextensions-configurator>=0.4.0 in c:\\users\\andon\\appdata\\local\\packages\\pythonsoftwarefoundation.python.3.9_qbz5n2kfra8p0\\localcache\\local-packages\\python39\\site-packages (from jupyter_contrib_nbextensions) (0.5.0)\n",
      "Requirement already satisfied: traitlets>=4.1 in c:\\users\\andon\\appdata\\local\\packages\\pythonsoftwarefoundation.python.3.9_qbz5n2kfra8p0\\localcache\\local-packages\\python39\\site-packages (from jupyter_contrib_nbextensions) (5.3.0)\n",
      "Requirement already satisfied: jupyter-contrib-core>=0.3.3 in c:\\users\\andon\\appdata\\local\\packages\\pythonsoftwarefoundation.python.3.9_qbz5n2kfra8p0\\localcache\\local-packages\\python39\\site-packages (from jupyter_contrib_nbextensions) (0.4.0)\n",
      "Requirement already satisfied: pyyaml in c:\\users\\andon\\appdata\\local\\packages\\pythonsoftwarefoundation.python.3.9_qbz5n2kfra8p0\\localcache\\local-packages\\python39\\site-packages (from jupyter_contrib_nbextensions) (6.0)\n",
      "Requirement already satisfied: jupyter-latex-envs>=1.3.8 in c:\\users\\andon\\appdata\\local\\packages\\pythonsoftwarefoundation.python.3.9_qbz5n2kfra8p0\\localcache\\local-packages\\python39\\site-packages (from jupyter_contrib_nbextensions) (1.4.6)\n",
      "Requirement already satisfied: notebook>=4.0 in c:\\users\\andon\\appdata\\local\\packages\\pythonsoftwarefoundation.python.3.9_qbz5n2kfra8p0\\localcache\\local-packages\\python39\\site-packages (from jupyter_contrib_nbextensions) (6.4.12)\n",
      "Requirement already satisfied: nbconvert>=4.2 in c:\\users\\andon\\appdata\\local\\packages\\pythonsoftwarefoundation.python.3.9_qbz5n2kfra8p0\\localcache\\local-packages\\python39\\site-packages (from jupyter_contrib_nbextensions) (6.5.3)\n",
      "Requirement already satisfied: lxml in c:\\users\\andon\\appdata\\local\\packages\\pythonsoftwarefoundation.python.3.9_qbz5n2kfra8p0\\localcache\\local-packages\\python39\\site-packages (from jupyter_contrib_nbextensions) (4.9.1)\n",
      "Requirement already satisfied: ipython-genutils in c:\\users\\andon\\appdata\\local\\packages\\pythonsoftwarefoundation.python.3.9_qbz5n2kfra8p0\\localcache\\local-packages\\python39\\site-packages (from jupyter_contrib_nbextensions) (0.2.0)\n",
      "Requirement already satisfied: setuptools in c:\\program files\\windowsapps\\pythonsoftwarefoundation.python.3.9_3.9.3568.0_x64__qbz5n2kfra8p0\\lib\\site-packages (from jupyter-contrib-core>=0.3.3->jupyter_contrib_nbextensions) (58.1.0)\n",
      "Requirement already satisfied: ipython in c:\\users\\andon\\appdata\\local\\packages\\pythonsoftwarefoundation.python.3.9_qbz5n2kfra8p0\\localcache\\local-packages\\python39\\site-packages (from jupyter-latex-envs>=1.3.8->jupyter_contrib_nbextensions) (8.4.0)\n",
      "Requirement already satisfied: pandocfilters>=1.4.1 in c:\\users\\andon\\appdata\\local\\packages\\pythonsoftwarefoundation.python.3.9_qbz5n2kfra8p0\\localcache\\local-packages\\python39\\site-packages (from nbconvert>=4.2->jupyter_contrib_nbextensions) (1.5.0)\n",
      "Requirement already satisfied: nbformat>=5.1 in c:\\users\\andon\\appdata\\local\\packages\\pythonsoftwarefoundation.python.3.9_qbz5n2kfra8p0\\localcache\\local-packages\\python39\\site-packages (from nbconvert>=4.2->jupyter_contrib_nbextensions) (5.4.0)\n",
      "Requirement already satisfied: MarkupSafe>=2.0 in c:\\users\\andon\\appdata\\local\\packages\\pythonsoftwarefoundation.python.3.9_qbz5n2kfra8p0\\localcache\\local-packages\\python39\\site-packages (from nbconvert>=4.2->jupyter_contrib_nbextensions) (2.1.1)\n",
      "Requirement already satisfied: entrypoints>=0.2.2 in c:\\users\\andon\\appdata\\local\\packages\\pythonsoftwarefoundation.python.3.9_qbz5n2kfra8p0\\localcache\\local-packages\\python39\\site-packages (from nbconvert>=4.2->jupyter_contrib_nbextensions) (0.4)\n",
      "Requirement already satisfied: defusedxml in c:\\users\\andon\\appdata\\local\\packages\\pythonsoftwarefoundation.python.3.9_qbz5n2kfra8p0\\localcache\\local-packages\\python39\\site-packages (from nbconvert>=4.2->jupyter_contrib_nbextensions) (0.7.1)\n",
      "Requirement already satisfied: mistune<2,>=0.8.1 in c:\\users\\andon\\appdata\\local\\packages\\pythonsoftwarefoundation.python.3.9_qbz5n2kfra8p0\\localcache\\local-packages\\python39\\site-packages (from nbconvert>=4.2->jupyter_contrib_nbextensions) (0.8.4)\n",
      "Requirement already satisfied: beautifulsoup4 in c:\\users\\andon\\appdata\\local\\packages\\pythonsoftwarefoundation.python.3.9_qbz5n2kfra8p0\\localcache\\local-packages\\python39\\site-packages (from nbconvert>=4.2->jupyter_contrib_nbextensions) (4.11.1)\n",
      "Requirement already satisfied: bleach in c:\\users\\andon\\appdata\\local\\packages\\pythonsoftwarefoundation.python.3.9_qbz5n2kfra8p0\\localcache\\local-packages\\python39\\site-packages (from nbconvert>=4.2->jupyter_contrib_nbextensions) (5.0.1)\n",
      "Requirement already satisfied: pygments>=2.4.1 in c:\\users\\andon\\appdata\\local\\packages\\pythonsoftwarefoundation.python.3.9_qbz5n2kfra8p0\\localcache\\local-packages\\python39\\site-packages (from nbconvert>=4.2->jupyter_contrib_nbextensions) (2.13.0)\n",
      "Requirement already satisfied: packaging in c:\\users\\andon\\appdata\\local\\packages\\pythonsoftwarefoundation.python.3.9_qbz5n2kfra8p0\\localcache\\local-packages\\python39\\site-packages (from nbconvert>=4.2->jupyter_contrib_nbextensions) (21.3)\n",
      "Requirement already satisfied: nbclient>=0.5.0 in c:\\users\\andon\\appdata\\local\\packages\\pythonsoftwarefoundation.python.3.9_qbz5n2kfra8p0\\localcache\\local-packages\\python39\\site-packages (from nbconvert>=4.2->jupyter_contrib_nbextensions) (0.6.6)\n",
      "Requirement already satisfied: tinycss2 in c:\\users\\andon\\appdata\\local\\packages\\pythonsoftwarefoundation.python.3.9_qbz5n2kfra8p0\\localcache\\local-packages\\python39\\site-packages (from nbconvert>=4.2->jupyter_contrib_nbextensions) (1.1.1)\n",
      "Requirement already satisfied: jinja2>=3.0 in c:\\users\\andon\\appdata\\local\\packages\\pythonsoftwarefoundation.python.3.9_qbz5n2kfra8p0\\localcache\\local-packages\\python39\\site-packages (from nbconvert>=4.2->jupyter_contrib_nbextensions) (3.1.2)\n",
      "Requirement already satisfied: jupyterlab-pygments in c:\\users\\andon\\appdata\\local\\packages\\pythonsoftwarefoundation.python.3.9_qbz5n2kfra8p0\\localcache\\local-packages\\python39\\site-packages (from nbconvert>=4.2->jupyter_contrib_nbextensions) (0.2.2)\n",
      "Requirement already satisfied: pywin32>=1.0 in c:\\users\\andon\\appdata\\local\\packages\\pythonsoftwarefoundation.python.3.9_qbz5n2kfra8p0\\localcache\\local-packages\\python39\\site-packages (from jupyter-core->jupyter_contrib_nbextensions) (304)\n",
      "Requirement already satisfied: nest-asyncio>=1.5 in c:\\users\\andon\\appdata\\local\\packages\\pythonsoftwarefoundation.python.3.9_qbz5n2kfra8p0\\localcache\\local-packages\\python39\\site-packages (from notebook>=4.0->jupyter_contrib_nbextensions) (1.5.5)\n",
      "Requirement already satisfied: terminado>=0.8.3 in c:\\users\\andon\\appdata\\local\\packages\\pythonsoftwarefoundation.python.3.9_qbz5n2kfra8p0\\localcache\\local-packages\\python39\\site-packages (from notebook>=4.0->jupyter_contrib_nbextensions) (0.15.0)\n",
      "Requirement already satisfied: pyzmq>=17 in c:\\users\\andon\\appdata\\local\\packages\\pythonsoftwarefoundation.python.3.9_qbz5n2kfra8p0\\localcache\\local-packages\\python39\\site-packages (from notebook>=4.0->jupyter_contrib_nbextensions) (23.2.1)\n",
      "Requirement already satisfied: jupyter-client>=5.3.4 in c:\\users\\andon\\appdata\\local\\packages\\pythonsoftwarefoundation.python.3.9_qbz5n2kfra8p0\\localcache\\local-packages\\python39\\site-packages (from notebook>=4.0->jupyter_contrib_nbextensions) (7.3.4)\n",
      "Requirement already satisfied: argon2-cffi in c:\\users\\andon\\appdata\\local\\packages\\pythonsoftwarefoundation.python.3.9_qbz5n2kfra8p0\\localcache\\local-packages\\python39\\site-packages (from notebook>=4.0->jupyter_contrib_nbextensions) (21.3.0)\n",
      "Requirement already satisfied: ipykernel in c:\\users\\andon\\appdata\\local\\packages\\pythonsoftwarefoundation.python.3.9_qbz5n2kfra8p0\\localcache\\local-packages\\python39\\site-packages (from notebook>=4.0->jupyter_contrib_nbextensions) (6.15.1)\n",
      "Requirement already satisfied: prometheus-client in c:\\users\\andon\\appdata\\local\\packages\\pythonsoftwarefoundation.python.3.9_qbz5n2kfra8p0\\localcache\\local-packages\\python39\\site-packages (from notebook>=4.0->jupyter_contrib_nbextensions) (0.14.1)\n",
      "Requirement already satisfied: Send2Trash>=1.8.0 in c:\\users\\andon\\appdata\\local\\packages\\pythonsoftwarefoundation.python.3.9_qbz5n2kfra8p0\\localcache\\local-packages\\python39\\site-packages (from notebook>=4.0->jupyter_contrib_nbextensions) (1.8.0)\n",
      "Requirement already satisfied: python-dateutil>=2.8.2 in c:\\users\\andon\\appdata\\local\\packages\\pythonsoftwarefoundation.python.3.9_qbz5n2kfra8p0\\localcache\\local-packages\\python39\\site-packages (from jupyter-client>=5.3.4->notebook>=4.0->jupyter_contrib_nbextensions) (2.8.2)\n",
      "Requirement already satisfied: fastjsonschema in c:\\users\\andon\\appdata\\local\\packages\\pythonsoftwarefoundation.python.3.9_qbz5n2kfra8p0\\localcache\\local-packages\\python39\\site-packages (from nbformat>=5.1->nbconvert>=4.2->jupyter_contrib_nbextensions) (2.16.1)\n",
      "Requirement already satisfied: jsonschema>=2.6 in c:\\users\\andon\\appdata\\local\\packages\\pythonsoftwarefoundation.python.3.9_qbz5n2kfra8p0\\localcache\\local-packages\\python39\\site-packages (from nbformat>=5.1->nbconvert>=4.2->jupyter_contrib_nbextensions) (4.14.0)\n",
      "Requirement already satisfied: pywinpty>=1.1.0 in c:\\users\\andon\\appdata\\local\\packages\\pythonsoftwarefoundation.python.3.9_qbz5n2kfra8p0\\localcache\\local-packages\\python39\\site-packages (from terminado>=0.8.3->notebook>=4.0->jupyter_contrib_nbextensions) (2.0.7)\n",
      "Requirement already satisfied: argon2-cffi-bindings in c:\\users\\andon\\appdata\\local\\packages\\pythonsoftwarefoundation.python.3.9_qbz5n2kfra8p0\\localcache\\local-packages\\python39\\site-packages (from argon2-cffi->notebook>=4.0->jupyter_contrib_nbextensions) (21.2.0)\n",
      "Requirement already satisfied: soupsieve>1.2 in c:\\users\\andon\\appdata\\local\\packages\\pythonsoftwarefoundation.python.3.9_qbz5n2kfra8p0\\localcache\\local-packages\\python39\\site-packages (from beautifulsoup4->nbconvert>=4.2->jupyter_contrib_nbextensions) (2.3.2.post1)\n",
      "Requirement already satisfied: webencodings in c:\\users\\andon\\appdata\\local\\packages\\pythonsoftwarefoundation.python.3.9_qbz5n2kfra8p0\\localcache\\local-packages\\python39\\site-packages (from bleach->nbconvert>=4.2->jupyter_contrib_nbextensions) (0.5.1)"
     ]
    },
    {
     "name": "stderr",
     "output_type": "stream",
     "text": [
      "usage: jupyter-contrib [-h] [--debug] [--show-config] [--show-config-json]\n",
      "                       [--generate-config] [-y]\n",
      "                       [--log-level JupyterContribApp.log_level]\n",
      "                       [--config JupyterContribApp.config_file]\n",
      "                       [extra_args ...]\n",
      "jupyter-contrib: error: argument --user: expected one argument\n"
     ]
    },
    {
     "name": "stdout",
     "output_type": "stream",
     "text": [
      "\n",
      "Requirement already satisfied: six>=1.9.0 in c:\\users\\andon\\appdata\\local\\packages\\pythonsoftwarefoundation.python.3.9_qbz5n2kfra8p0\\localcache\\local-packages\\python39\\site-packages (from bleach->nbconvert>=4.2->jupyter_contrib_nbextensions) (1.16.0)\n",
      "Requirement already satisfied: psutil in c:\\users\\andon\\appdata\\local\\packages\\pythonsoftwarefoundation.python.3.9_qbz5n2kfra8p0\\localcache\\local-packages\\python39\\site-packages (from ipykernel->notebook>=4.0->jupyter_contrib_nbextensions) (5.9.1)\n",
      "Requirement already satisfied: debugpy>=1.0 in c:\\users\\andon\\appdata\\local\\packages\\pythonsoftwarefoundation.python.3.9_qbz5n2kfra8p0\\localcache\\local-packages\\python39\\site-packages (from ipykernel->notebook>=4.0->jupyter_contrib_nbextensions) (1.6.3)\n",
      "Requirement already satisfied: matplotlib-inline>=0.1 in c:\\users\\andon\\appdata\\local\\packages\\pythonsoftwarefoundation.python.3.9_qbz5n2kfra8p0\\localcache\\local-packages\\python39\\site-packages (from ipykernel->notebook>=4.0->jupyter_contrib_nbextensions) (0.1.6)\n",
      "Requirement already satisfied: jedi>=0.16 in c:\\users\\andon\\appdata\\local\\packages\\pythonsoftwarefoundation.python.3.9_qbz5n2kfra8p0\\localcache\\local-packages\\python39\\site-packages (from ipython->jupyter-latex-envs>=1.3.8->jupyter_contrib_nbextensions) (0.18.1)\n",
      "Requirement already satisfied: stack-data in c:\\users\\andon\\appdata\\local\\packages\\pythonsoftwarefoundation.python.3.9_qbz5n2kfra8p0\\localcache\\local-packages\\python39\\site-packages (from ipython->jupyter-latex-envs>=1.3.8->jupyter_contrib_nbextensions) (0.4.0)\n",
      "Requirement already satisfied: decorator in c:\\users\\andon\\appdata\\local\\packages\\pythonsoftwarefoundation.python.3.9_qbz5n2kfra8p0\\localcache\\local-packages\\python39\\site-packages (from ipython->jupyter-latex-envs>=1.3.8->jupyter_contrib_nbextensions) (5.1.1)\n",
      "Requirement already satisfied: colorama in c:\\users\\andon\\appdata\\local\\packages\\pythonsoftwarefoundation.python.3.9_qbz5n2kfra8p0\\localcache\\local-packages\\python39\\site-packages (from ipython->jupyter-latex-envs>=1.3.8->jupyter_contrib_nbextensions) (0.4.5)\n",
      "Requirement already satisfied: prompt-toolkit!=3.0.0,!=3.0.1,<3.1.0,>=2.0.0 in c:\\users\\andon\\appdata\\local\\packages\\pythonsoftwarefoundation.python.3.9_qbz5n2kfra8p0\\localcache\\local-packages\\python39\\site-packages (from ipython->jupyter-latex-envs>=1.3.8->jupyter_contrib_nbextensions) (3.0.30)\n",
      "Requirement already satisfied: pickleshare in c:\\users\\andon\\appdata\\local\\packages\\pythonsoftwarefoundation.python.3.9_qbz5n2kfra8p0\\localcache\\local-packages\\python39\\site-packages (from ipython->jupyter-latex-envs>=1.3.8->jupyter_contrib_nbextensions) (0.7.5)\n",
      "Requirement already satisfied: backcall in c:\\users\\andon\\appdata\\local\\packages\\pythonsoftwarefoundation.python.3.9_qbz5n2kfra8p0\\localcache\\local-packages\\python39\\site-packages (from ipython->jupyter-latex-envs>=1.3.8->jupyter_contrib_nbextensions) (0.2.0)\n",
      "Requirement already satisfied: pyparsing!=3.0.5,>=2.0.2 in c:\\users\\andon\\appdata\\local\\packages\\pythonsoftwarefoundation.python.3.9_qbz5n2kfra8p0\\localcache\\local-packages\\python39\\site-packages (from packaging->nbconvert>=4.2->jupyter_contrib_nbextensions) (3.0.9)\n",
      "Requirement already satisfied: parso<0.9.0,>=0.8.0 in c:\\users\\andon\\appdata\\local\\packages\\pythonsoftwarefoundation.python.3.9_qbz5n2kfra8p0\\localcache\\local-packages\\python39\\site-packages (from jedi>=0.16->ipython->jupyter-latex-envs>=1.3.8->jupyter_contrib_nbextensions) (0.8.3)\n",
      "Requirement already satisfied: attrs>=17.4.0 in c:\\users\\andon\\appdata\\local\\packages\\pythonsoftwarefoundation.python.3.9_qbz5n2kfra8p0\\localcache\\local-packages\\python39\\site-packages (from jsonschema>=2.6->nbformat>=5.1->nbconvert>=4.2->jupyter_contrib_nbextensions) (22.1.0)\n",
      "Requirement already satisfied: pyrsistent!=0.17.0,!=0.17.1,!=0.17.2,>=0.14.0 in c:\\users\\andon\\appdata\\local\\packages\\pythonsoftwarefoundation.python.3.9_qbz5n2kfra8p0\\localcache\\local-packages\\python39\\site-packages (from jsonschema>=2.6->nbformat>=5.1->nbconvert>=4.2->jupyter_contrib_nbextensions) (0.18.1)\n",
      "Requirement already satisfied: wcwidth in c:\\users\\andon\\appdata\\local\\packages\\pythonsoftwarefoundation.python.3.9_qbz5n2kfra8p0\\localcache\\local-packages\\python39\\site-packages (from prompt-toolkit!=3.0.0,!=3.0.1,<3.1.0,>=2.0.0->ipython->jupyter-latex-envs>=1.3.8->jupyter_contrib_nbextensions) (0.2.5)\n",
      "Requirement already satisfied: cffi>=1.0.1 in c:\\users\\andon\\appdata\\local\\packages\\pythonsoftwarefoundation.python.3.9_qbz5n2kfra8p0\\localcache\\local-packages\\python39\\site-packages (from argon2-cffi-bindings->argon2-cffi->notebook>=4.0->jupyter_contrib_nbextensions) (1.15.1)\n",
      "Requirement already satisfied: executing in c:\\users\\andon\\appdata\\local\\packages\\pythonsoftwarefoundation.python.3.9_qbz5n2kfra8p0\\localcache\\local-packages\\python39\\site-packages (from stack-data->ipython->jupyter-latex-envs>=1.3.8->jupyter_contrib_nbextensions) (0.10.0)\n",
      "Requirement already satisfied: asttokens in c:\\users\\andon\\appdata\\local\\packages\\pythonsoftwarefoundation.python.3.9_qbz5n2kfra8p0\\localcache\\local-packages\\python39\\site-packages (from stack-data->ipython->jupyter-latex-envs>=1.3.8->jupyter_contrib_nbextensions) (2.0.8)\n",
      "Requirement already satisfied: pure-eval in c:\\users\\andon\\appdata\\local\\packages\\pythonsoftwarefoundation.python.3.9_qbz5n2kfra8p0\\localcache\\local-packages\\python39\\site-packages (from stack-data->ipython->jupyter-latex-envs>=1.3.8->jupyter_contrib_nbextensions) (0.2.2)\n",
      "Requirement already satisfied: pycparser in c:\\users\\andon\\appdata\\local\\packages\\pythonsoftwarefoundation.python.3.9_qbz5n2kfra8p0\\localcache\\local-packages\\python39\\site-packages (from cffi>=1.0.1->argon2-cffi-bindings->argon2-cffi->notebook>=4.0->jupyter_contrib_nbextensions) (2.21)\n"
     ]
    }
   ],
   "source": [
    "!pip3 install jupyter_contrib_nbextensions && jupyter contrib nb extension install --user"
   ]
  },
  {
   "cell_type": "markdown",
   "id": "165d2336",
   "metadata": {},
   "source": [
    "Done"
   ]
  },
  {
   "cell_type": "code",
   "execution_count": null,
   "id": "5209bfda",
   "metadata": {},
   "outputs": [],
   "source": []
  }
 ],
 "metadata": {
  "kernelspec": {
   "display_name": "Python 3 (ipykernel)",
   "language": "python",
   "name": "python3"
  },
  "language_info": {
   "codemirror_mode": {
    "name": "ipython",
    "version": 3
   },
   "file_extension": ".py",
   "mimetype": "text/x-python",
   "name": "python",
   "nbconvert_exporter": "python",
   "pygments_lexer": "ipython3",
   "version": "3.9.12"
  },
  "toc": {
   "base_numbering": 1,
   "nav_menu": {},
   "number_sections": true,
   "sideBar": true,
   "skip_h1_title": false,
   "title_cell": "Table of Contents",
   "title_sidebar": "Contents",
   "toc_cell": false,
   "toc_position": {},
   "toc_section_display": true,
   "toc_window_display": true
  }
 },
 "nbformat": 4,
 "nbformat_minor": 5
}
